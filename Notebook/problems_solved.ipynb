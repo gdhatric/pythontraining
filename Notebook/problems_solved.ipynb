{
 "cells": [
  {
   "cell_type": "code",
   "execution_count": 1,
   "metadata": {},
   "outputs": [
    {
     "ename": "NameError",
     "evalue": "name 'num' is not defined",
     "output_type": "error",
     "traceback": [
      "\u001b[0;31m---------------------------------------------------------------------------\u001b[0m",
      "\u001b[0;31mNameError\u001b[0m                                 Traceback (most recent call last)",
      "\u001b[0;32m<ipython-input-1-97061a1e410c>\u001b[0m in \u001b[0;36m<module>\u001b[0;34m\u001b[0m\n\u001b[0;32m----> 1\u001b[0;31m \u001b[0mmy_list\u001b[0m \u001b[0;34m=\u001b[0m \u001b[0;34m[\u001b[0m\u001b[0mnum\u001b[0m \u001b[0;32min\u001b[0m \u001b[0mrange\u001b[0m\u001b[0;34m(\u001b[0m\u001b[0;36m1\u001b[0m\u001b[0;34m,\u001b[0m\u001b[0;36m100\u001b[0m\u001b[0;34m)\u001b[0m\u001b[0;34m]\u001b[0m\u001b[0;34m\u001b[0m\u001b[0;34m\u001b[0m\u001b[0m\n\u001b[0m",
      "\u001b[0;31mNameError\u001b[0m: name 'num' is not defined"
     ]
    }
   ],
   "source": [
    "my_list = [num in range(1,100)]"
   ]
  },
  {
   "cell_type": "code",
   "execution_count": 2,
   "metadata": {},
   "outputs": [
    {
     "name": "stdout",
     "output_type": "stream",
     "text": [
      "range(1, 100)\n"
     ]
    }
   ],
   "source": [
    "my_list = range(1,100)\n",
    "print(my_list)"
   ]
  },
  {
   "cell_type": "code",
   "execution_count": 4,
   "metadata": {},
   "outputs": [
    {
     "name": "stdout",
     "output_type": "stream",
     "text": [
      "[1, 2, 3, 4, 5, 6, 7, 8, 9, 10, 11, 12, 13, 14, 15, 16, 17, 18, 19, 20, 21, 22, 23, 24, 25, 26, 27, 28, 29, 30, 31, 32, 33, 34, 35, 36, 37, 38, 39, 40, 41, 42, 43, 44, 45, 46, 47, 48, 49, 50, 51, 52, 53, 54, 55, 56, 57, 58, 59, 60, 61, 62, 63, 64, 65, 66, 67, 68, 69, 70, 71, 72, 73, 74, 75, 76, 77, 78, 79, 80, 81, 82, 83, 84, 85, 86, 87, 88, 89, 90, 91, 92, 93, 94, 95, 96, 97, 98, 99, 100]\n"
     ]
    }
   ],
   "source": [
    "my_list = [num for num in range(1,101)]\n",
    "print(my_list)"
   ]
  },
  {
   "cell_type": "code",
   "execution_count": 5,
   "metadata": {},
   "outputs": [
    {
     "data": {
      "text/plain": [
       "[1,\n",
       " 2,\n",
       " 3,\n",
       " 4,\n",
       " 5,\n",
       " 6,\n",
       " 7,\n",
       " 8,\n",
       " 9,\n",
       " 10,\n",
       " 11,\n",
       " 12,\n",
       " 13,\n",
       " 14,\n",
       " 15,\n",
       " 16,\n",
       " 17,\n",
       " 18,\n",
       " 19,\n",
       " 20,\n",
       " 21,\n",
       " 22,\n",
       " 23,\n",
       " 24,\n",
       " 25,\n",
       " 26,\n",
       " 27,\n",
       " 28,\n",
       " 29,\n",
       " 30,\n",
       " 31,\n",
       " 32,\n",
       " 33,\n",
       " 34,\n",
       " 35,\n",
       " 36,\n",
       " 37,\n",
       " 38,\n",
       " 39,\n",
       " 40,\n",
       " 41,\n",
       " 42,\n",
       " 43,\n",
       " 44,\n",
       " 45,\n",
       " 46,\n",
       " 47,\n",
       " 48,\n",
       " 49,\n",
       " 50,\n",
       " 51,\n",
       " 52,\n",
       " 53,\n",
       " 54,\n",
       " 55,\n",
       " 56,\n",
       " 57,\n",
       " 58,\n",
       " 59,\n",
       " 60,\n",
       " 61,\n",
       " 62,\n",
       " 63,\n",
       " 64,\n",
       " 65,\n",
       " 66,\n",
       " 67,\n",
       " 68,\n",
       " 69,\n",
       " 70,\n",
       " 71,\n",
       " 72,\n",
       " 73,\n",
       " 74,\n",
       " 75,\n",
       " 76,\n",
       " 77,\n",
       " 78,\n",
       " 79,\n",
       " 80,\n",
       " 81,\n",
       " 82,\n",
       " 83,\n",
       " 84,\n",
       " 85,\n",
       " 86,\n",
       " 87,\n",
       " 88,\n",
       " 89,\n",
       " 90,\n",
       " 91,\n",
       " 92,\n",
       " 93,\n",
       " 94,\n",
       " 95,\n",
       " 96,\n",
       " 97,\n",
       " 98,\n",
       " 99,\n",
       " 100]"
      ]
     },
     "execution_count": 5,
     "metadata": {},
     "output_type": "execute_result"
    }
   ],
   "source": [
    "my_list"
   ]
  },
  {
   "cell_type": "code",
   "execution_count": 11,
   "metadata": {},
   "outputs": [
    {
     "name": "stdout",
     "output_type": "stream",
     "text": [
      "1\n",
      "2\n",
      "divisible by both 3 ->  3\n",
      "4\n",
      "divisible by both 5 ->  5\n",
      "divisible by both 3 ->  6\n",
      "7\n",
      "8\n",
      "divisible by both 3 ->  9\n",
      "divisible by both 5 ->  10\n",
      "11\n",
      "divisible by both 3 ->  12\n",
      "13\n",
      "14\n",
      "divisible by both 3 and 5 -> 15\n",
      "16\n",
      "17\n",
      "divisible by both 3 ->  18\n",
      "19\n",
      "divisible by both 5 ->  20\n",
      "divisible by both 3 ->  21\n",
      "22\n",
      "23\n",
      "divisible by both 3 ->  24\n",
      "divisible by both 5 ->  25\n",
      "26\n",
      "divisible by both 3 ->  27\n",
      "28\n",
      "29\n",
      "divisible by both 3 and 5 -> 30\n",
      "31\n",
      "32\n",
      "divisible by both 3 ->  33\n",
      "34\n",
      "divisible by both 5 ->  35\n",
      "divisible by both 3 ->  36\n",
      "37\n",
      "38\n",
      "divisible by both 3 ->  39\n",
      "divisible by both 5 ->  40\n",
      "41\n",
      "divisible by both 3 ->  42\n",
      "43\n",
      "44\n",
      "divisible by both 3 and 5 -> 45\n",
      "46\n",
      "47\n",
      "divisible by both 3 ->  48\n",
      "49\n",
      "divisible by both 5 ->  50\n",
      "divisible by both 3 ->  51\n",
      "52\n",
      "53\n",
      "divisible by both 3 ->  54\n",
      "divisible by both 5 ->  55\n",
      "56\n",
      "divisible by both 3 ->  57\n",
      "58\n",
      "59\n",
      "divisible by both 3 and 5 -> 60\n",
      "61\n",
      "62\n",
      "divisible by both 3 ->  63\n",
      "64\n",
      "divisible by both 5 ->  65\n",
      "divisible by both 3 ->  66\n",
      "67\n",
      "68\n",
      "divisible by both 3 ->  69\n",
      "divisible by both 5 ->  70\n",
      "71\n",
      "divisible by both 3 ->  72\n",
      "73\n",
      "74\n",
      "divisible by both 3 and 5 -> 75\n",
      "76\n",
      "77\n",
      "divisible by both 3 ->  78\n",
      "79\n",
      "divisible by both 5 ->  80\n",
      "divisible by both 3 ->  81\n",
      "82\n",
      "83\n",
      "divisible by both 3 ->  84\n",
      "divisible by both 5 ->  85\n",
      "86\n",
      "divisible by both 3 ->  87\n",
      "88\n",
      "89\n",
      "divisible by both 3 and 5 -> 90\n",
      "91\n",
      "92\n",
      "divisible by both 3 ->  93\n",
      "94\n",
      "divisible by both 5 ->  95\n",
      "divisible by both 3 ->  96\n",
      "97\n",
      "98\n",
      "divisible by both 3 ->  99\n",
      "divisible by both 5 ->  100\n"
     ]
    }
   ],
   "source": [
    "my_final_list=[]\n",
    "\n",
    "for num in my_list:\n",
    "    if num%3==0 and num%5==0:\n",
    "        print (f'divisible by both 3 and 5 -> {str(num)}')\n",
    "        my_final_list.append('FIZZBUZZ')\n",
    "    elif num%3==0:\n",
    "        print (f'divisible by both 3 ->  {str(num)}')\n",
    "        my_final_list.append('FIZZ')\n",
    "    elif num%5==0:\n",
    "        print (f'divisible by both 5 ->  {str(num)}')\n",
    "        my_final_list.append('BUZZ')\n",
    "    else:\n",
    "        print(num)\n",
    "        my_final_list.append(num)"
   ]
  },
  {
   "cell_type": "code",
   "execution_count": 12,
   "metadata": {},
   "outputs": [
    {
     "name": "stdout",
     "output_type": "stream",
     "text": [
      "[1, 2, 'FIZZ', 4, 'BUZZ', 'FIZZ', 7, 8, 'FIZZ', 'BUZZ', 11, 'FIZZ', 13, 14, 'FIZZBUZZ', 16, 17, 'FIZZ', 19, 'BUZZ', 'FIZZ', 22, 23, 'FIZZ', 'BUZZ', 26, 'FIZZ', 28, 29, 'FIZZBUZZ', 31, 32, 'FIZZ', 34, 'BUZZ', 'FIZZ', 37, 38, 'FIZZ', 'BUZZ', 41, 'FIZZ', 43, 44, 'FIZZBUZZ', 46, 47, 'FIZZ', 49, 'BUZZ', 'FIZZ', 52, 53, 'FIZZ', 'BUZZ', 56, 'FIZZ', 58, 59, 'FIZZBUZZ', 61, 62, 'FIZZ', 64, 'BUZZ', 'FIZZ', 67, 68, 'FIZZ', 'BUZZ', 71, 'FIZZ', 73, 74, 'FIZZBUZZ', 76, 77, 'FIZZ', 79, 'BUZZ', 'FIZZ', 82, 83, 'FIZZ', 'BUZZ', 86, 'FIZZ', 88, 89, 'FIZZBUZZ', 91, 92, 'FIZZ', 94, 'BUZZ', 'FIZZ', 97, 98, 'FIZZ', 'BUZZ']\n"
     ]
    }
   ],
   "source": [
    "print(my_final_list)"
   ]
  },
  {
   "cell_type": "code",
   "execution_count": 28,
   "metadata": {},
   "outputs": [
    {
     "name": "stdout",
     "output_type": "stream",
     "text": [
      "[1, 2, 'FIZZ', 4, 'BUZZ', 'FIZZ', 7, 8, 'FIZZ', 'BUZZ', 11, 'FIZZ', 13, 14, 'FIZZBUZZ', 16, 17, 'FIZZ', 19, 'BUZZ', 'FIZZ', 22, 23, 'FIZZ', 'BUZZ', 26, 'FIZZ', 28, 29, 'FIZZBUZZ', 31, 32, 'FIZZ', 34, 'BUZZ', 'FIZZ', 37, 38, 'FIZZ', 'BUZZ', 41, 'FIZZ', 43, 44, 'FIZZBUZZ', 46, 47, 'FIZZ', 49, 'BUZZ', 'FIZZ', 52, 53, 'FIZZ', 'BUZZ', 56, 'FIZZ', 58, 59, 'FIZZBUZZ', 61, 62, 'FIZZ', 64, 'BUZZ', 'FIZZ', 67, 68, 'FIZZ', 'BUZZ', 71, 'FIZZ', 73, 74, 'FIZZBUZZ', 76, 77, 'FIZZ', 79, 'BUZZ', 'FIZZ', 82, 83, 'FIZZ', 'BUZZ', 86, 'FIZZ', 88, 89, 'FIZZBUZZ', 91, 92, 'FIZZ', 94, 'BUZZ', 'FIZZ', 97, 98, 'FIZZ', 'BUZZ']\n"
     ]
    }
   ],
   "source": [
    "my_final_list=[]\n",
    "my_list = list(range(1,101))\n",
    "for num in my_list:\n",
    "    if num%3==0 and num%5==0:\n",
    "        my_final_list.append('FIZZBUZZ')\n",
    "    elif num%3==0:\n",
    "        my_final_list.append('FIZZ')\n",
    "    elif num%5==0:\n",
    "        my_final_list.append('BUZZ')\n",
    "    else:\n",
    "        my_final_list.append(num)\n",
    "        \n",
    "print(my_final_list)        "
   ]
  },
  {
   "cell_type": "code",
   "execution_count": 15,
   "metadata": {},
   "outputs": [],
   "source": [
    "my_str=\"Hello World\""
   ]
  },
  {
   "cell_type": "code",
   "execution_count": 16,
   "metadata": {},
   "outputs": [
    {
     "name": "stdout",
     "output_type": "stream",
     "text": [
      "['Hello', 'World']\n"
     ]
    }
   ],
   "source": [
    "print(my_str.split())"
   ]
  },
  {
   "cell_type": "code",
   "execution_count": 18,
   "metadata": {},
   "outputs": [
    {
     "name": "stdout",
     "output_type": "stream",
     "text": [
      "[5, 5]\n"
     ]
    }
   ],
   "source": [
    "print([len(my_word) for my_word in my_str.split()])"
   ]
  },
  {
   "cell_type": "code",
   "execution_count": 29,
   "metadata": {},
   "outputs": [],
   "source": [
    "my_num=10"
   ]
  },
  {
   "cell_type": "code",
   "execution_count": 30,
   "metadata": {},
   "outputs": [
    {
     "name": "stdout",
     "output_type": "stream",
     "text": [
      "<built-in method bit_length of int object at 0x5636e5b293a0>\n"
     ]
    }
   ],
   "source": [
    "print(my_num.bit_length)"
   ]
  },
  {
   "cell_type": "code",
   "execution_count": 31,
   "metadata": {},
   "outputs": [
    {
     "name": "stdout",
     "output_type": "stream",
     "text": [
      "10\n"
     ]
    }
   ],
   "source": [
    "print(my_num.numerator)"
   ]
  },
  {
   "cell_type": "code",
   "execution_count": 32,
   "metadata": {},
   "outputs": [
    {
     "name": "stdout",
     "output_type": "stream",
     "text": [
      "1\n"
     ]
    }
   ],
   "source": [
    "print(my_num.denominator)"
   ]
  },
  {
   "cell_type": "code",
   "execution_count": 38,
   "metadata": {},
   "outputs": [
    {
     "ename": "TypeError",
     "evalue": "'builtin_function_or_method' object is not iterable",
     "output_type": "error",
     "traceback": [
      "\u001b[0;31m---------------------------------------------------------------------------\u001b[0m",
      "\u001b[0;31mTypeError\u001b[0m                                 Traceback (most recent call last)",
      "\u001b[0;32m<ipython-input-38-c1a3d968b45f>\u001b[0m in \u001b[0;36m<module>\u001b[0;34m\u001b[0m\n\u001b[0;32m----> 1\u001b[0;31m \u001b[0mprint\u001b[0m\u001b[0;34m(\u001b[0m\u001b[0;34m[\u001b[0m\u001b[0myo\u001b[0m \u001b[0;32mfor\u001b[0m \u001b[0myo\u001b[0m \u001b[0;32min\u001b[0m \u001b[0mmy_num\u001b[0m\u001b[0;34m.\u001b[0m\u001b[0mfrom_bytes\u001b[0m\u001b[0;34m]\u001b[0m\u001b[0;34m)\u001b[0m\u001b[0;34m\u001b[0m\u001b[0;34m\u001b[0m\u001b[0m\n\u001b[0m",
      "\u001b[0;31mTypeError\u001b[0m: 'builtin_function_or_method' object is not iterable"
     ]
    }
   ],
   "source": [
    "print([yo for yo in my_num.from_bytes])"
   ]
  },
  {
   "cell_type": "code",
   "execution_count": 39,
   "metadata": {},
   "outputs": [
    {
     "name": "stdout",
     "output_type": "stream",
     "text": [
      "Help on method_descriptor:\n",
      "\n",
      "insert(self, index, object, /)\n",
      "    Insert object before index.\n",
      "\n"
     ]
    }
   ],
   "source": [
    "help(list.insert)"
   ]
  },
  {
   "cell_type": "code",
   "execution_count": 65,
   "metadata": {},
   "outputs": [],
   "source": [
    "my_list=[1,2,3]"
   ]
  },
  {
   "cell_type": "code",
   "execution_count": 70,
   "metadata": {},
   "outputs": [],
   "source": [
    "my_list.insert(1,20)"
   ]
  },
  {
   "cell_type": "code",
   "execution_count": 67,
   "metadata": {},
   "outputs": [
    {
     "data": {
      "text/plain": [
       "[1, 2, 3]"
      ]
     },
     "execution_count": 67,
     "metadata": {},
     "output_type": "execute_result"
    }
   ],
   "source": [
    "my_list"
   ]
  },
  {
   "cell_type": "code",
   "execution_count": 53,
   "metadata": {},
   "outputs": [],
   "source": [
    "my_list.insert(4,10)"
   ]
  },
  {
   "cell_type": "code",
   "execution_count": 69,
   "metadata": {},
   "outputs": [
    {
     "name": "stdout",
     "output_type": "stream",
     "text": [
      "index : 0 value : 1\n",
      "index : 1 value : 2\n",
      "index : 2 value : 3\n"
     ]
    }
   ],
   "source": [
    "for index,value in enumerate(my_list):\n",
    "    print(f'index : {index} value : {value}')"
   ]
  },
  {
   "cell_type": "code",
   "execution_count": 74,
   "metadata": {},
   "outputs": [
    {
     "name": "stdout",
     "output_type": "stream",
     "text": [
      "index : 0 value : 1\n",
      "index : 1 value : 2\n",
      "index : 2 value : 3\n",
      "index : 3 value : 4\n",
      "\n",
      "index : 0 value : 1\n",
      "index : 1 value : 2\n",
      "index : 2 value : 20\n",
      "index : 3 value : 3\n",
      "index : 4 value : 4\n"
     ]
    }
   ],
   "source": [
    "my_list=[1,2,3,4]\n",
    "for index,value in enumerate(my_list):\n",
    "    print(f'index : {index} value : {value}')\n",
    "my_list.insert(2,20)\n",
    "print(\"\")\n",
    "for index,value in enumerate(my_list):\n",
    "    print(f'index : {index} value : {value}')"
   ]
  },
  {
   "cell_type": "code",
   "execution_count": 80,
   "metadata": {},
   "outputs": [
    {
     "name": "stdout",
     "output_type": "stream",
     "text": [
      "ello\n"
     ]
    }
   ],
   "source": [
    "my_string=\"Hello\"\n",
    "print(my_string[1:5])"
   ]
  },
  {
   "cell_type": "code",
   "execution_count": 88,
   "metadata": {},
   "outputs": [],
   "source": [
    "def my_function(*args):\n",
    "    print(sum(args))\n",
    "  "
   ]
  },
  {
   "cell_type": "code",
   "execution_count": 89,
   "metadata": {},
   "outputs": [
    {
     "name": "stdout",
     "output_type": "stream",
     "text": [
      "110\n"
     ]
    }
   ],
   "source": [
    "my_function(1,2,3,5,6,77,8,8)"
   ]
  },
  {
   "cell_type": "code",
   "execution_count": 90,
   "metadata": {},
   "outputs": [],
   "source": [
    "my_string=\"hello\""
   ]
  },
  {
   "cell_type": "code",
   "execution_count": 102,
   "metadata": {},
   "outputs": [],
   "source": [
    "def myfunc(my_string):\n",
    "    result=\"\"\n",
    "    for index,value in enumerate(my_string):\n",
    "        if index%2==0:\n",
    "            result+=value.upper()\n",
    "        else:\n",
    "            result+=value.lower()\n",
    "    return result   "
   ]
  },
  {
   "cell_type": "code",
   "execution_count": 107,
   "metadata": {},
   "outputs": [
    {
     "name": "stdout",
     "output_type": "stream",
     "text": [
      "[0, 1, 2, 3, 4]\n"
     ]
    }
   ],
   "source": [
    "print(list(range(len(my_string))))"
   ]
  }
 ],
 "metadata": {
  "kernelspec": {
   "display_name": "Python 3",
   "language": "python",
   "name": "python3"
  },
  "language_info": {
   "codemirror_mode": {
    "name": "ipython",
    "version": 3
   },
   "file_extension": ".py",
   "mimetype": "text/x-python",
   "name": "python",
   "nbconvert_exporter": "python",
   "pygments_lexer": "ipython3",
   "version": "3.7.6"
  }
 },
 "nbformat": 4,
 "nbformat_minor": 4
}
